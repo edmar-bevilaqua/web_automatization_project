{
 "cells": [
  {
   "cell_type": "markdown",
   "metadata": {},
   "source": [
    "# "
   ]
  },
  {
   "cell_type": "markdown",
   "metadata": {},
   "source": [
    "# Automating processes:\n",
    "----\n",
    "(interactive version -> *.ipynb*)"
   ]
  },
  {
   "cell_type": "markdown",
   "metadata": {},
   "source": [
    "## Importing libraries:"
   ]
  },
  {
   "cell_type": "code",
   "execution_count": null,
   "metadata": {},
   "outputs": [],
   "source": [
    "import numpy as np\n",
    "import pandas as pd\n",
    "import selenium as sn\n",
    "\n",
    "from bs4 import BeautifulSoup\n",
    "from selenium import webdriver\n",
    "from selenium.webdriver.chrome.service import Service as ChromeService\n",
    "from selenium.webdriver.common.by import By\n",
    "from selenium.webdriver.common.keys import Keys\n",
    "from selenium.webdriver.support.ui import WebDriverWait\n",
    "from selenium.webdriver.support import expected_conditions as EC\n",
    "from webdriver_manager.chrome import ChromeDriverManager\n",
    "from dotenv import load_dotenv\n",
    "import os\n",
    "\n",
    "load_dotenv()\n",
    "\n",
    "link = os.getenv('LINK')\n",
    "user_login = os.getenv('USER_LOGIN')\n",
    "user_pw = os.getenv('USER_PASSWORD')"
   ]
  },
  {
   "cell_type": "markdown",
   "metadata": {},
   "source": [
    "Setting up driver for Google Chrome:"
   ]
  },
  {
   "cell_type": "code",
   "execution_count": null,
   "metadata": {},
   "outputs": [],
   "source": [
    "# Checks if the webdriver is installed and up to date\n",
    "driver = webdriver.Chrome(service=ChromeService(ChromeDriverManager().install()))\n",
    "\n",
    "# Opens the link stored in .env\n",
    "driver.get(link)\n",
    "\n",
    "# Fill the login field\n",
    "login = driver.find_element(By.ID, 'txtLogin')\n",
    "login.send_keys(user_login)\n",
    "\n",
    "# Fill the password field\n",
    "login = driver.find_element(By.ID, 'txtSenha')\n",
    "login.send_keys(user_pw)\n",
    "\n",
    "# Click the enter button\n",
    "enter_btn = driver.find_element(By.ID, 'btnOk')\n",
    "enter_btn.click()\n",
    "\n",
    "# Enter the 'Recuperação Ambiental' module and 'Controle' submodule\n",
    "module_btn = driver.find_element(By.ID, 'imbModuloP3')\n",
    "driver.execute_script(\"arguments[0].click();\", module_btn)\n",
    "sub_module_btn = driver.find_element(By.ID, 'imbModuloP3')\n",
    "sub_module_btn = WebDriverWait(driver, 10).until(\n",
    "    EC.visibility_of_element_located((By.CSS_SELECTOR, \"div.rollfx[onclick*='DefaultRecuperacaoAmbientalControle.aspx']\"))\n",
    ")\n",
    "driver.execute_script(\"arguments[0].click();\", sub_module_btn)\n",
    "\n",
    "# Wait until the new page is completely loaded\n",
    "WebDriverWait(driver, 10).until(\n",
    "    lambda driver: driver.execute_script('return document.readyState') == 'complete'\n",
    ")\n",
    "\n",
    "# Enter the module 'Controle > Boletim de Silvicultura'\n",
    "# Click on first element ('Controle') and wait until the \n",
    "# submodule ('Boletim de Silvicultura') is visible, then click it\n",
    "first_element = WebDriverWait(driver, 10).until(\n",
    "    EC.visibility_of_element_located((By.CSS_SELECTOR, \"td.MenuItem[id='Menu1-menuItem000']\"))\n",
    ")\n",
    "first_element.click()\n",
    "\n",
    "# Wait until the second element is visible and clickable\n",
    "second_element = WebDriverWait(driver, 10).until(\n",
    "    EC.visibility_of_element_located((By.CSS_SELECTOR, \"td.MenuItem[id='Menu1-menuItem000-subMenu-menuItem000']\"))\n",
    ")\n",
    "second_element.click()\n",
    "\n",
    "# Wait until the new page is completely loaded\n",
    "WebDriverWait(driver, 10).until(\n",
    "    lambda driver: driver.execute_script('return document.readyState') == 'complete'\n",
    ")\n",
    "\n",
    "# Select the planned services\n",
    "radio_button = WebDriverWait(driver, 10).until(\n",
    "    EC.visibility_of_element_located((By.ID, 'rblApontamento_0'))\n",
    ")\n",
    "driver.execute_script(\"arguments[0].click();\", radio_button)\n"
   ]
  },
  {
   "cell_type": "code",
   "execution_count": null,
   "metadata": {},
   "outputs": [],
   "source": []
  }
 ],
 "metadata": {
  "kernelspec": {
   "display_name": ".venv",
   "language": "python",
   "name": "python3"
  },
  "language_info": {
   "codemirror_mode": {
    "name": "ipython",
    "version": 3
   },
   "file_extension": ".py",
   "mimetype": "text/x-python",
   "name": "python",
   "nbconvert_exporter": "python",
   "pygments_lexer": "ipython3",
   "version": "3.12.3"
  }
 },
 "nbformat": 4,
 "nbformat_minor": 2
}
